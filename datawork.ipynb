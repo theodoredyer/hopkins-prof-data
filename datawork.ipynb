{
 "cells": [
  {
   "cell_type": "code",
   "execution_count": 1,
   "metadata": {},
   "outputs": [],
   "source": [
    "import pandas as pd\n",
    "import numpy as np"
   ]
  },
  {
   "cell_type": "code",
   "execution_count": 2,
   "metadata": {},
   "outputs": [],
   "source": [
    "import matplotlib.pyplot as plt\n",
    "import seaborn as sns\n",
    "%matplotlib inline"
   ]
  },
  {
   "cell_type": "code",
   "execution_count": 5,
   "metadata": {},
   "outputs": [],
   "source": [
    "df = pd.read_csv('data/comp_arch.csv')"
   ]
  },
  {
   "cell_type": "code",
   "execution_count": 6,
   "metadata": {},
   "outputs": [
    {
     "name": "stdout",
     "output_type": "stream",
     "text": [
      "<class 'pandas.core.frame.DataFrame'>\n",
      "RangeIndex: 12 entries, 0 to 11\n",
      "Data columns (total 8 columns):\n",
      " #   Column     Non-Null Count  Dtype  \n",
      "---  ------     --------------  -----  \n",
      " 0   professor  12 non-null     object \n",
      " 1   icr        12 non-null     float64\n",
      " 2   gcr        12 non-null     float64\n",
      " 3   ccr        12 non-null     float64\n",
      " 4   cr         12 non-null     float64\n",
      " 5   tsw        12 non-null     float64\n",
      " 6   ps         12 non-null     float64\n",
      " 7   rwl        12 non-null     float64\n",
      "dtypes: float64(7), object(1)\n",
      "memory usage: 896.0+ bytes\n"
     ]
    }
   ],
   "source": [
    "df.info()"
   ]
  },
  {
   "cell_type": "code",
   "execution_count": 7,
   "metadata": {},
   "outputs": [
    {
     "data": {
      "text/html": [
       "<div>\n",
       "<style scoped>\n",
       "    .dataframe tbody tr th:only-of-type {\n",
       "        vertical-align: middle;\n",
       "    }\n",
       "\n",
       "    .dataframe tbody tr th {\n",
       "        vertical-align: top;\n",
       "    }\n",
       "\n",
       "    .dataframe thead th {\n",
       "        text-align: right;\n",
       "    }\n",
       "</style>\n",
       "<table border=\"1\" class=\"dataframe\">\n",
       "  <thead>\n",
       "    <tr style=\"text-align: right;\">\n",
       "      <th></th>\n",
       "      <th>professor</th>\n",
       "      <th>icr</th>\n",
       "      <th>gcr</th>\n",
       "      <th>ccr</th>\n",
       "      <th>cr</th>\n",
       "      <th>tsw</th>\n",
       "      <th>ps</th>\n",
       "      <th>rwl</th>\n",
       "    </tr>\n",
       "  </thead>\n",
       "  <tbody>\n",
       "    <tr>\n",
       "      <th>0</th>\n",
       "      <td>kan</td>\n",
       "      <td>4.36</td>\n",
       "      <td>4.375</td>\n",
       "      <td>4.367000</td>\n",
       "      <td>4.2</td>\n",
       "      <td>6.690000</td>\n",
       "      <td>4.380000</td>\n",
       "      <td>4.9</td>\n",
       "    </tr>\n",
       "    <tr>\n",
       "      <th>1</th>\n",
       "      <td>kan</td>\n",
       "      <td>4.48</td>\n",
       "      <td>4.125</td>\n",
       "      <td>4.333333</td>\n",
       "      <td>4.3</td>\n",
       "      <td>7.052632</td>\n",
       "      <td>4.368421</td>\n",
       "      <td>4.5</td>\n",
       "    </tr>\n",
       "    <tr>\n",
       "      <th>2</th>\n",
       "      <td>kan</td>\n",
       "      <td>4.58</td>\n",
       "      <td>4.450</td>\n",
       "      <td>4.400000</td>\n",
       "      <td>4.4</td>\n",
       "      <td>7.107143</td>\n",
       "      <td>4.214286</td>\n",
       "      <td>4.6</td>\n",
       "    </tr>\n",
       "    <tr>\n",
       "      <th>3</th>\n",
       "      <td>she</td>\n",
       "      <td>4.16</td>\n",
       "      <td>4.250</td>\n",
       "      <td>4.000000</td>\n",
       "      <td>4.2</td>\n",
       "      <td>10.766667</td>\n",
       "      <td>4.200000</td>\n",
       "      <td>4.5</td>\n",
       "    </tr>\n",
       "    <tr>\n",
       "      <th>4</th>\n",
       "      <td>she</td>\n",
       "      <td>3.32</td>\n",
       "      <td>3.350</td>\n",
       "      <td>3.400000</td>\n",
       "      <td>4.3</td>\n",
       "      <td>17.250000</td>\n",
       "      <td>3.750000</td>\n",
       "      <td>3.4</td>\n",
       "    </tr>\n",
       "  </tbody>\n",
       "</table>\n",
       "</div>"
      ],
      "text/plain": [
       "  professor   icr    gcr       ccr   cr        tsw        ps  rwl\n",
       "0       kan  4.36  4.375  4.367000  4.2   6.690000  4.380000  4.9\n",
       "1       kan  4.48  4.125  4.333333  4.3   7.052632  4.368421  4.5\n",
       "2       kan  4.58  4.450  4.400000  4.4   7.107143  4.214286  4.6\n",
       "3       she  4.16  4.250  4.000000  4.2  10.766667  4.200000  4.5\n",
       "4       she  3.32  3.350  3.400000  4.3  17.250000  3.750000  3.4"
      ]
     },
     "execution_count": 7,
     "metadata": {},
     "output_type": "execute_result"
    }
   ],
   "source": [
    "df.head()"
   ]
  },
  {
   "cell_type": "code",
   "execution_count": 8,
   "metadata": {},
   "outputs": [
    {
     "data": {
      "text/plain": [
       "3.9999999999999996"
      ]
     },
     "execution_count": 8,
     "metadata": {},
     "output_type": "execute_result"
    }
   ],
   "source": [
    "df['rwl'].mean()"
   ]
  },
  {
   "cell_type": "code",
   "execution_count": 38,
   "metadata": {},
   "outputs": [
    {
     "data": {
      "text/plain": [
       "Text(0.5, 1.0, 'Distribution plot of Time Spent / Week (TSW)')"
      ]
     },
     "execution_count": 38,
     "metadata": {},
     "output_type": "execute_result"
    },
    {
     "data": {
      "image/png": "[encoded data removed]",
      "text/plain": [
       "<Figure size 432x288 with 1 Axes>"
      ]
     },
     "metadata": {
      "needs_background": "light"
     },
     "output_type": "display_data"
    }
   ],
   "source": [
    "sns.barplot(x='professor',y='tsw',data=df)\n",
    "plt.title('Distribution plot of Time Spent / Week (TSW)')"
   ]
  },
  {
   "cell_type": "markdown",
   "metadata": {},
   "source": [
    "#### Takeaways from TSW\n",
    "- High value = students spent on average more time per week on this course\n",
    "- Some of the more interesting data I've seen so far, I feel as though TSW is one of the most important factors when evaluating a professor as it can be very telling of how effectively they convey information, low effectiveness results in more time spent out of your day searching for the same material. \n",
    "- Low TSW and low variance is extremely important when gauging difficulty."
   ]
  },
  {
   "cell_type": "code",
   "execution_count": 36,
   "metadata": {},
   "outputs": [
    {
     "data": {
      "text/plain": [
       "Text(0.5, 1.0, 'Distribution plot of Instructor Composite Rating (ICR)')"
      ]
     },
     "execution_count": 36,
     "metadata": {},
     "output_type": "execute_result"
    },
    {
     "data": {
      "image/png": "[encoded data removed]",
      "text/plain": [
       "<Figure size 432x288 with 1 Axes>"
      ]
     },
     "metadata": {
      "needs_background": "light"
     },
     "output_type": "display_data"
    }
   ],
   "source": [
    "sns.barplot(x='professor',y='icr',data=df)\n",
    "plt.title('Distribution plot of Instructor Composite Rating (ICR)')"
   ]
  },
  {
   "cell_type": "markdown",
   "metadata": {},
   "source": [
    "#### Takeaways from ICR\n",
    "- High score = students rated this professor's teaching style highly (more detail in readme).\n",
    "- Low variation = more students aligned with the mean score.\n",
    "- Kan has a high rating with little standard deviation."
   ]
  },
  {
   "cell_type": "code",
   "execution_count": 30,
   "metadata": {},
   "outputs": [
    {
     "data": {
      "text/plain": [
       "Text(0.5, 1.0, 'Distribution plot of Grading Composite Rating (GCR)')"
      ]
     },
     "execution_count": 30,
     "metadata": {},
     "output_type": "execute_result"
    },
    {
     "data": {
      "image/png": "[encoded data removed]",
      "text/plain": [
       "<Figure size 432x288 with 1 Axes>"
      ]
     },
     "metadata": {
      "needs_background": "light"
     },
     "output_type": "display_data"
    }
   ],
   "source": [
    "sns.barplot(x='professor',y='gcr',data=df)\n",
    "plt.title('Distribution plot of Grading Composite Rating (GCR)')"
   ]
  },
  {
   "cell_type": "markdown",
   "metadata": {},
   "source": [
    "#### Takeaways from GCR\n",
    "- High score = students believe this professor's grading scheme is fair.\n",
    "- Low variation = more students aligned with the mean score.\n",
    "- No surprises here, similar results to GCR with a slight edge to osb as lower deviation in grading fairness is fairly important."
   ]
  },
  {
   "cell_type": "code",
   "execution_count": 31,
   "metadata": {
    "scrolled": true
   },
   "outputs": [
    {
     "data": {
      "text/plain": [
       "Text(0.5, 1.0, 'Distribution plot of Course Composite Rating (CCR)')"
      ]
     },
     "execution_count": 31,
     "metadata": {},
     "output_type": "execute_result"
    },
    {
     "data": {
      "image/png": "[encoded data removed]",
      "text/plain": [
       "<Figure size 432x288 with 1 Axes>"
      ]
     },
     "metadata": {
      "needs_background": "light"
     },
     "output_type": "display_data"
    }
   ],
   "source": [
    "sns.barplot(x='professor',y='ccr',data=df)\n",
    "plt.title('Distribution plot of Course Composite Rating (CCR)')"
   ]
  },
  {
   "cell_type": "markdown",
   "metadata": {},
   "source": [
    "#### Takeaways from CCR\n",
    "- High score = students liked the overall course structure.\n",
    "- Low variation = more students aligned with the mean score.\n",
    "- Definate edge to kan, lowest variation and highest overall score. "
   ]
  },
  {
   "cell_type": "code",
   "execution_count": 32,
   "metadata": {},
   "outputs": [
    {
     "data": {
      "text/plain": [
       "Text(0.5, 1.0, 'Distribution plot of Challenge Rating (CR)')"
      ]
     },
     "execution_count": 32,
     "metadata": {},
     "output_type": "execute_result"
    },
    {
     "data": {
      "image/png": "[encoded data removed]",
      "text/plain": [
       "<Figure size 432x288 with 1 Axes>"
      ]
     },
     "metadata": {
      "needs_background": "light"
     },
     "output_type": "display_data"
    }
   ],
   "source": [
    "sns.barplot(x='professor',y='cr',data=df)\n",
    "plt.title('Distribution plot of Challenge Rating (CR)')"
   ]
  },
  {
   "cell_type": "markdown",
   "metadata": {},
   "source": [
    "#### Takeaways from CR\n",
    "- High score = students believe the course is more difficult.\n",
    "- Low variation = more students aligned with the mean score.\n",
    "- These should all be relatively equal considering the curriculum for each professor should be similar. "
   ]
  },
  {
   "cell_type": "code",
   "execution_count": null,
   "metadata": {},
   "outputs": [],
   "source": []
  },
  {
   "cell_type": "code",
   "execution_count": null,
   "metadata": {},
   "outputs": [],
   "source": []
  },
  {
   "cell_type": "markdown",
   "metadata": {},
   "source": []
  },
  {
   "cell_type": "code",
   "execution_count": null,
   "metadata": {},
   "outputs": [],
   "source": []
  },
  {
   "cell_type": "code",
   "execution_count": null,
   "metadata": {},
   "outputs": [],
   "source": []
  },
  {
   "cell_type": "markdown",
   "metadata": {},
   "source": [
    "### Averaged Professor Data\n",
    "\n",
    "- For each of the professors in the initial data frame there are three different rows of scores for each composite rating and other field.\n",
    "\n",
    "- These rows are the scores the professors achieved over three different semesters of teaching the course, with the most recent 3 available chosen. \n",
    "\n",
    "- The following analysis will be done on the mean values of these three scores for each field, I may switch this groupby() method due to the fact that when teachers have a small number of students in a given course section, this can skew the resulting average if students have polarizing responses. "
   ]
  },
  {
   "cell_type": "code",
   "execution_count": 9,
   "metadata": {},
   "outputs": [],
   "source": [
    "avdf = df.groupby('professor').mean()"
   ]
  },
  {
   "cell_type": "code",
   "execution_count": 10,
   "metadata": {},
   "outputs": [
    {
     "data": {
      "text/html": [
       "<div>\n",
       "<style scoped>\n",
       "    .dataframe tbody tr th:only-of-type {\n",
       "        vertical-align: middle;\n",
       "    }\n",
       "\n",
       "    .dataframe tbody tr th {\n",
       "        vertical-align: top;\n",
       "    }\n",
       "\n",
       "    .dataframe thead th {\n",
       "        text-align: right;\n",
       "    }\n",
       "</style>\n",
       "<table border=\"1\" class=\"dataframe\">\n",
       "  <thead>\n",
       "    <tr style=\"text-align: right;\">\n",
       "      <th></th>\n",
       "      <th>icr</th>\n",
       "      <th>gcr</th>\n",
       "      <th>ccr</th>\n",
       "      <th>cr</th>\n",
       "      <th>tsw</th>\n",
       "      <th>ps</th>\n",
       "      <th>rwl</th>\n",
       "    </tr>\n",
       "    <tr>\n",
       "      <th>professor</th>\n",
       "      <th></th>\n",
       "      <th></th>\n",
       "      <th></th>\n",
       "      <th></th>\n",
       "      <th></th>\n",
       "      <th></th>\n",
       "      <th></th>\n",
       "    </tr>\n",
       "  </thead>\n",
       "  <tbody>\n",
       "    <tr>\n",
       "      <th>kan</th>\n",
       "      <td>4.473333</td>\n",
       "      <td>4.316667</td>\n",
       "      <td>4.366778</td>\n",
       "      <td>4.3</td>\n",
       "      <td>6.949925</td>\n",
       "      <td>4.320902</td>\n",
       "      <td>4.666667</td>\n",
       "    </tr>\n",
       "    <tr>\n",
       "      <th>mal</th>\n",
       "      <td>3.773333</td>\n",
       "      <td>3.891667</td>\n",
       "      <td>3.666667</td>\n",
       "      <td>4.2</td>\n",
       "      <td>12.471342</td>\n",
       "      <td>3.781297</td>\n",
       "      <td>3.700000</td>\n",
       "    </tr>\n",
       "    <tr>\n",
       "      <th>osb</th>\n",
       "      <td>4.300000</td>\n",
       "      <td>4.266667</td>\n",
       "      <td>3.966667</td>\n",
       "      <td>4.3</td>\n",
       "      <td>11.308236</td>\n",
       "      <td>4.202525</td>\n",
       "      <td>3.833333</td>\n",
       "    </tr>\n",
       "    <tr>\n",
       "      <th>she</th>\n",
       "      <td>3.820000</td>\n",
       "      <td>3.825000</td>\n",
       "      <td>3.788889</td>\n",
       "      <td>4.5</td>\n",
       "      <td>14.399495</td>\n",
       "      <td>3.831818</td>\n",
       "      <td>3.800000</td>\n",
       "    </tr>\n",
       "  </tbody>\n",
       "</table>\n",
       "</div>"
      ],
      "text/plain": [
       "                icr       gcr       ccr   cr        tsw        ps       rwl\n",
       "professor                                                                  \n",
       "kan        4.473333  4.316667  4.366778  4.3   6.949925  4.320902  4.666667\n",
       "mal        3.773333  3.891667  3.666667  4.2  12.471342  3.781297  3.700000\n",
       "osb        4.300000  4.266667  3.966667  4.3  11.308236  4.202525  3.833333\n",
       "she        3.820000  3.825000  3.788889  4.5  14.399495  3.831818  3.800000"
      ]
     },
     "execution_count": 10,
     "metadata": {},
     "output_type": "execute_result"
    }
   ],
   "source": [
    "avdf.head()"
   ]
  }
 ],
 "metadata": {
  "kernelspec": {
   "display_name": "Python 3",
   "language": "python",
   "name": "python3"
  },
  "language_info": {
   "codemirror_mode": {
    "name": "ipython",
    "version": 3
   },
   "file_extension": ".py",
   "mimetype": "text/x-python",
   "name": "python",
   "nbconvert_exporter": "python",
   "pygments_lexer": "ipython3",
   "version": "3.8.3"
  }
 },
 "nbformat": 4,
 "nbformat_minor": 4
}
